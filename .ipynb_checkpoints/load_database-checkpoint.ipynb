{
 "cells": [
  {
   "cell_type": "code",

   "execution_count": 1,

   "metadata": {},
   "outputs": [],
   "source": [
    "import pandas as pd\n",
    "import matplotlib.pyplot as plt\n",
    "import numpy as np\n",
    "from scipy.optimize import curve_fit"
   ]
  },
  {
   "cell_type": "code",

   "execution_count": 2,

   "metadata": {},
   "outputs": [],
   "source": [
    "#load main coronavirus data from DB\n",
    "\n",
    "path = r'..\\COVID-19\\csse_covid_19_data\\csse_covid_19_time_series'\n",
    "\n",
    "Confirmed = pd.read_csv(path + \"/time_series_19-covid-Confirmed.csv\", index_col=None, header=0)\n",
    "Deaths = pd.read_csv(path + \"/time_series_19-covid-Deaths.csv\", index_col=None, header=0)\n",
    "Recovered = pd.read_csv(path + \"/time_series_19-covid-Recovered.csv\", index_col=None, header=0)"
   ]
  },
  {
   "cell_type": "code",

   "execution_count": 7,
   "metadata": {
    "scrolled": true
   },

   "outputs": [],
   "source": [
    "#load supplemental data\n",
    "\n",
    "supp = r'./supplemental_data'\n",
    "\n",
    "bloodtypes = pd.read_csv(supp + \"/bloodtypes.csv\", index_col=None, header=0)\n",
    "gdp = pd.read_csv(supp + \"/gdp.csv\", index_col=None, header=0)\n",
    "healthcare_rank = pd.read_csv(supp + \"/healthcare_rank.csv\", index_col=None, header=0, encoding='latin-1')\n",
    "smoking_rate = pd.read_csv(supp + \"/smoking_rate.csv\", index_col=None, header=0)"
   ]
  },
  {
   "cell_type": "code",

   "execution_count": 21,

   "metadata": {},
   "outputs": [],
   "source": [
    "#classes\n",
    "class Country:\n",
    "    def __init__(self, n = ''):\n",
    "        self.name = n\n",
    "        self.population = gdp[gdp.loc[:, 'country'] == n]['pop'].sum()\n",
    "        self.latitude = Confirmed[Confirmed.loc[:, 'Country/Region'] == n]['Long'].sum()\n",
    "        self.longitude = Confirmed[Confirmed.loc[:, 'Country/Region'] == n]['Lat'].sum()\n",
    "        self.confirmed = Confirmed[Confirmed.loc[:, 'Country/Region'] == n].drop(['Province/State', 'Country/Region', 'Lat', 'Long'], axis = 1).sum()\n",
    "        self.deaths = Deaths[Deaths.loc[:, 'Country/Region'] == n].drop(['Province/State', 'Country/Region', 'Lat', 'Long'], axis = 1).sum()\n",
    "        self.recovered = Recovered[Recovered.loc[:, 'Country/Region'] == n].drop(['Province/State', 'Country/Region', 'Lat', 'Long'], axis = 1).sum()\n",
    "        self.actual = self.confirmed - (self.deaths + self.recovered) \n",
    "        self.newCases = self.confirmed.copy()\n",
    "        \n",

    "        self.healthcare_rank = healthcare_rank[healthcare_rank.loc[:, 'area_name'] == n]['score_2019'].sum()/100\n",

    "        self.gdp_per_capita = gdp[gdp.loc[:, 'country'] == n]['gdpPerCapita'].sum()\n",
    "        self.bloodtype_percentages = bloodtypes[bloodtypes.loc[:, 'Country'] == n].drop(['Country', 'Population'], axis = 1).to_numpy()[0]\n",
    "        for i in range(8):\n",
    "            self.bloodtype_percentages[i] = self.bloodtype_percentages[i].strip('%')\n",
    "            self.bloodtype_percentages[i] = float(self.bloodtype_percentages[i])/100\n",
    "        self.smoking_rate = smoking_rate[smoking_rate.loc[:, 'name'] == n]['totalSmokingRate']/100\n",
    "        \n",
    "        for i in range(1, len(self.newCases)):\n",
    "            self.newCases[i] = self.newCases[i] - self.newCases[i-1]\n",
    "        return\n",
    "    \n",
    "    name = ''\n",
    "    population = 0              # in thousands\n",
    "    latitude = ''               # in degrees\n",
    "    longitude = ''              # in degrees\n",
    "    confirmed = []\n",
    "    deaths = []\n",
    "    recovered = []\n",
    "    actual = []\n",
    "    newCases = []   \n",

    "    healthcare_rank = 0         # normalized to range [0:1]\n",
    "    gdp_per_capita = 0          # in USD\n",
    "    bloodtype_percentages = []  # in range [0:1] (percents)\n",
    "    smoking_rate = 0            # in range [0:1] (percents)\n",
    "    \n",
    "    pass\n",
    "\n",
    "class Logistic_curve:           # logistic function of confirmad cases\n",
    "                                # works only for countries which have already overcome the disease\n",
    "    def __init__(self, country = Country):\n",
    "        self.y = np.asarray(country.confirmed.values)\n",
    "        self.x = np.linspace(0, len(self.y), len(self.y))\n",
    "        self.name = country.name\n",
    "        #self.set_values()\n",
    "        \n",
    "    def sigmoid(self, x, L ,x0, k, b):\n",
    "        y = L / (1 + np.exp(-k*(x-x0)))+b\n",
    "        return (y)\n",
    "    \n",
    "    def set_values(self):       # find constants of logistic curve\n",
    "        p0 = [max(self.y), np.median(self.x), 1, min(self.y)]\n",
    "        popt, pcov = curve_fit(self.sigmoid, self.x, self.y, p0, method='dogbox')\n",
    "        self.L = popt[0]\n",
    "        self.x0 = popt[1]\n",
    "        self.k = popt[2]\n",
    "        self.b = popt[3]\n",
    "        self.y_logistic_curve = self.sigmoid(self.x, *popt)\n",
    "    \n",
    "    name = ''\n",
    "    L = ''                      # curve's maximum value\n",
    "    x0 = ''                     # x-value of the sigmoid's midpoint (inflation point)\n",
    "    k = ''                      # logistic growth rate of steepness of the curve\n",
    "    b = ''                      # curve's minimum value\n",
    "    x = []                      # days in numbers from 1/22\n",
    "    y = []                      # confirmed cases from 1/22\n",
    "    y_logistic_curve = []       # logistic curve's values\n",

    "    \n",
    "    pass\n"
   ]
  },
  {
   "cell_type": "code",

   "execution_count": 22,
   "metadata": {},

   "outputs": [
    {
     "name": "stdout",
     "output_type": "stream",
     "text": [
      "82377.83315168467\n"
     ]
    },
    {
     "data": {
      "image/png": "[encoded data removed]",
      "text/plain": [
       "<Figure size 432x288 with 1 Axes>"
      ]
     },
     "metadata": {
      "needs_background": "light"
     },
     "output_type": "display_data"
    }
   ],
   "source": [
    "#analyzed country\n",

    "\n",
    "analyzedCountry = Country('China')\n",
    "\n",
    "a = Logistic_curve(analyzedCountry)\n",
    "a.set_values()\n",
    "plt.plot(a.x, a.y)\n",
    "plt.plot(a.x, a.y_logistic_curve)\n",
    "print(a.L)\n",
    "\n",
    "\n"

   ]
  },
  {
   "cell_type": "code",

   "execution_count": 23,

   "metadata": {
    "scrolled": true
   },
   "outputs": [
    {
     "data": {
      "text/plain": [
       "[<matplotlib.lines.Line2D at 0x21769a3a248>]"
      ]
     },

     "execution_count": 23,

     "metadata": {},
     "output_type": "execute_result"
    },
    {
     "data": {
      "image/png": "[encoded data removed]",
      "text/plain": [
       "<Figure size 432x288 with 1 Axes>"
      ]
     },
     "metadata": {
      "needs_background": "light"
     },
     "output_type": "display_data"
    }
   ],
   "source": [
    "#display basic data for chosen country\n",
    "\n",

    "\n",
    "#plt.figure(figsize=(20, 10))\n",
    "\n",
    "#plt.plot(analyzedCountry.confirmed)\n",

    "#plt.plot(analysedCountry.deaths)\n",
    "#plt.plot(analysedCountry.recovered)\n",
    "#plt.plot(analysedCountry.actual)\n",
    "#plt.plot(analysedCountry.newCases)\n",
    "\n",
    "#plt.xticks(rotation=90)"
   ]
  },
  {
   "cell_type": "code",

   "execution_count": 24,

   "metadata": {},
   "outputs": [
    {
     "data": {
      "image/png": "[encoded data removed]",
      "text/plain": [
       "<Figure size 432x288 with 1 Axes>"
      ]
     },
     "metadata": {},
     "output_type": "display_data"
    }
   ],
   "source": [
    "#bloodtype distribution\n",
    "\n",
    "labels = ['0+', 'A+', 'B+', 'AB+', '0-', 'A-', 'B-', 'AB-']\n",
    "plt.title(analyzedCountry.name + \" Blood Type Distribution\")\n",
    "plt.pie(analyzedCountry.bloodtype_percentages, labels=labels, autopct='%1.1f%%')\n",
    "plt.show()"
   ]
  },
  {
   "cell_type": "code",


   "execution_count": 25,

   "metadata": {},
   "outputs": [
    {
     "name": "stdout",
     "output_type": "stream",
     "text": [

      "10746.7828\n"

     ]
    }
   ],
   "source": [
    "print(analyzedCountry.gdp_per_capita)"
   ]
  },
  {
   "cell_type": "code",

   "execution_count": 26,

   "metadata": {},
   "outputs": [
    {
     "name": "stdout",
     "output_type": "stream",
     "text": [

      "0.775\n"

     ]
    }
   ],
   "source": [
    "print(analyzedCountry.healthcare_rank)"
   ]
  },
  {
   "cell_type": "code",


   "execution_count": 27,

   "metadata": {},
   "outputs": [
    {
     "name": "stdout",
     "output_type": "stream",
     "text": [

      "90    0.2805\n",

      "Name: totalSmokingRate, dtype: float64\n"
     ]
    }
   ],
   "source": [
    "print(analyzedCountry.smoking_rate)"
   ]

  },
  {
   "cell_type": "code",
   "execution_count": null,
   "metadata": {},
   "outputs": [],
   "source": []


  }
 ],
 "metadata": {
  "kernelspec": {
   "display_name": "Python 3",
   "language": "python",
   "name": "python3"
  },
  "language_info": {
   "codemirror_mode": {
    "name": "ipython",
    "version": 3
   },
   "file_extension": ".py",
   "mimetype": "text/x-python",
   "name": "python",
   "nbconvert_exporter": "python",
   "pygments_lexer": "ipython3",
   "version": "3.7.6"
  }
 },
 "nbformat": 4,
 "nbformat_minor": 2
}
