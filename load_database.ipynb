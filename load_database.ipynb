{
 "cells": [
  {
   "cell_type": "code",
   "execution_count": 1,
   "metadata": {},
   "outputs": [],
   "source": [
    "import pandas as pd\n",
    "import matplotlib.pyplot as plt\n",
    "import numpy as np"
   ]
  },
  {
   "cell_type": "code",
   "execution_count": 2,
   "metadata": {},
   "outputs": [],
   "source": [
    "#load main coronavirus data from DB\n",
    "\n",
    "path = r'..\\COVID-19\\csse_covid_19_data\\csse_covid_19_time_series'\n",
    "\n",
    "Confirmed = pd.read_csv(path + \"/time_series_19-covid-Confirmed.csv\", index_col=None, header=0)\n",
    "Deaths = pd.read_csv(path + \"/time_series_19-covid-Deaths.csv\", index_col=None, header=0)\n",
    "Recovered = pd.read_csv(path + \"/time_series_19-covid-Recovered.csv\", index_col=None, header=0)"
   ]
  },
  {
   "cell_type": "code",
   "execution_count": 3,
   "metadata": {},
   "outputs": [],
   "source": [
    "#load supplemental data\n",
    "\n",
    "supp = r'./supplemental_data'\n",
    "\n",
    "bloodtypes = pd.read_csv(supp + \"/bloodtypes.csv\", index_col=None, header=0)\n",
    "gdp = pd.read_csv(supp + \"/gdp.csv\", index_col=None, header=0)\n",
    "healthcare_rank = pd.read_csv(supp + \"/healthcare_rank.csv\", index_col=None, header=0)\n",
    "smoking_rate = pd.read_csv(supp + \"/smoking_rate.csv\", index_col=None, header=0)"
   ]
  },
  {
   "cell_type": "code",
   "execution_count": 14,
   "metadata": {},
   "outputs": [],
   "source": [
    "#classes\n",
    "class Country:\n",
    "    def __init__(self, n = ''):\n",
    "        self.name = n\n",
    "        self.population = healthcare_rank[healthcare_rank.loc[:, 'name'] == n]['pop2020'].sum()\n",
    "        self.latitude = Confirmed[Confirmed.loc[:, 'Country/Region'] == n]['Long'].sum()\n",
    "        self.longitude = Confirmed[Confirmed.loc[:, 'Country/Region'] == n]['Lat'].sum()\n",
    "        self.confirmed = Confirmed[Confirmed.loc[:, 'Country/Region'] == n].drop(['Province/State', 'Country/Region', 'Lat', 'Long'], axis = 1).sum()\n",
    "        self.deaths = Deaths[Deaths.loc[:, 'Country/Region'] == n].drop(['Province/State', 'Country/Region', 'Lat', 'Long'], axis = 1).sum()\n",
    "        self.recovered = Recovered[Recovered.loc[:, 'Country/Region'] == n].drop(['Province/State', 'Country/Region', 'Lat', 'Long'], axis = 1).sum()\n",
    "        self.actual = self.confirmed - (self.deaths + self.recovered) \n",
    "        self.newCases = Confirmed[Confirmed.loc[:, 'Country/Region'] == n].drop(['Province/State', 'Country/Region', 'Lat', 'Long'], axis = 1).sum()\n",
    "        \n",
    "        self.healthcare_rank = healthcare_rank[healthcare_rank.loc[:, 'name'] == n]['healthcareRank'].sum()/healthcare_rank['healthcareRank'].max()\n",
    "        self.gdp_per_capita = gdp[gdp.loc[:, 'country'] == n]['gdpPerCapita'].sum()\n",
    "        self.bloodtype_percentages = bloodtypes[bloodtypes.loc[:, 'Country'] == n].drop(['Country', 'Population'], axis = 1).to_numpy()[0]\n",
    "        for i in range(8):\n",
    "            self.bloodtype_percentages[i] = self.bloodtype_percentages[i].strip('%')\n",
    "            self.bloodtype_percentages[i] = float(self.bloodtype_percentages[i])/100\n",
    "        self.smoking_rate = smoking_rate[smoking_rate.loc[:, 'name'] == n]['totalSmokingRate']/100\n",
    "        \n",
    "        for i in range(1, len(self.newCases)):\n",
    "            self.newCases[i] = self.newCases[i] - self.newCases[i-1]\n",
    "        return\n",
    "    \n",
    "    name = ''\n",
    "    population = 0              # in thousands\n",
    "    latitude = ''               # in degrees\n",
    "    longitude = ''              # in degrees\n",
    "    confirmed = []\n",
    "    deaths = []\n",
    "    recovered = []\n",
    "    actual = []\n",
    "    newCases = []   \n",
    "    healthcare_rank = 0         # normalized to range [0:1]\n",
    "    gdp_per_capita = 0          # in USD\n",
    "    bloodtype_percentages = []  # in range [0:1] (percents)\n",
    "    smoking_rate = 0            # in range [0:1] (percents)\n",
    "    \n",
    "    pass\n"
   ]
  },
  {
   "cell_type": "code",
   "execution_count": 15,
   "metadata": {},
   "outputs": [
    {
     "name": "stdout",
     "output_type": "stream",
     "text": [
      "51.9194\n",
      "[0.31 0.32 0.15 0.07 0.06 0.06 0.02 0.01]\n"
     ]
    }
   ],
   "source": [
    "#analyzed country\n",
    "\n",
    "analyzedCountry = Country('Poland')\n",
    "print(analyzedCountry.longitude)\n",
    "print(analyzedCountry.bloodtype_percentages)"
   ]
  },
  {
   "cell_type": "code",
   "execution_count": 16,
   "metadata": {
    "scrolled": true
   },
   "outputs": [
    {
     "data": {
      "text/plain": [
       "([0,\n",
       "  1,\n",
       "  2,\n",
       "  3,\n",
       "  4,\n",
       "  5,\n",
       "  6,\n",
       "  7,\n",
       "  8,\n",
       "  9,\n",
       "  10,\n",
       "  11,\n",
       "  12,\n",
       "  13,\n",
       "  14,\n",
       "  15,\n",
       "  16,\n",
       "  17,\n",
       "  18,\n",
       "  19,\n",
       "  20,\n",
       "  21,\n",
       "  22,\n",
       "  23,\n",
       "  24,\n",
       "  25,\n",
       "  26,\n",
       "  27,\n",
       "  28,\n",
       "  29,\n",
       "  30,\n",
       "  31,\n",
       "  32,\n",
       "  33,\n",
       "  34,\n",
       "  35,\n",
       "  36,\n",
       "  37,\n",
       "  38,\n",
       "  39,\n",
       "  40,\n",
       "  41,\n",
       "  42,\n",
       "  43,\n",
       "  44,\n",
       "  45,\n",
       "  46,\n",
       "  47,\n",
       "  48,\n",
       "  49,\n",
       "  50,\n",
       "  51,\n",
       "  52,\n",
       "  53,\n",
       "  54,\n",
       "  55,\n",
       "  56,\n",
       "  57],\n",
       " <a list of 58 Text xticklabel objects>)"
      ]
     },
     "execution_count": 16,
     "metadata": {},
     "output_type": "execute_result"
    },
    {
     "data": {
      "image/png": "[encoded data removed]",
      "text/plain": [
       "<Figure size 1440x720 with 1 Axes>"
      ]
     },
     "metadata": {
      "needs_background": "light"
     },
     "output_type": "display_data"
    }
   ],
   "source": [
    "#display basic data for chosen country\n",
    "\n",
    "plt.figure(figsize=(20, 10))\n",
    "plt.plot(analyzedCountry.confirmed)\n",
    "#plt.plot(analysedCountry.deaths)\n",
    "#plt.plot(analysedCountry.recovered)\n",
    "#plt.plot(analysedCountry.actual)\n",
    "#plt.plot(analysedCountry.newCases)\n",
    "\n",
    "plt.xticks(rotation=90)"
   ]
  },
  {
   "cell_type": "code",
   "execution_count": 17,
   "metadata": {},
   "outputs": [
    {
     "data": {
      "image/png": "[encoded data removed]",
      "text/plain": [
       "<Figure size 432x288 with 1 Axes>"
      ]
     },
     "metadata": {},
     "output_type": "display_data"
    }
   ],
   "source": [
    "labels = ['0+', 'A+', 'B+', 'AB+', '0-', 'A-', 'B-', 'AB-']\n",
    "plt.title(analyzedCountry.name + \" Blood Type Distribution\")\n",
    "plt.pie(analyzedCountry.bloodtype_percentages, labels=labels, autopct='%1.1f%%')\n",
    "plt.show()"
   ]
  },
  {
   "cell_type": "code",
   "execution_count": 18,
   "metadata": {},
   "outputs": [
    {
     "name": "stdout",
     "output_type": "stream",
     "text": [
      "16996.8719\n"
     ]
    }
   ],
   "source": [
    "print(analyzedCountry.gdp_per_capita)"
   ]
  },
  {
   "cell_type": "code",
   "execution_count": 19,
   "metadata": {},
   "outputs": [
    {
     "name": "stdout",
     "output_type": "stream",
     "text": [
      "0.5\n"
     ]
    }
   ],
   "source": [
    "print(analyzedCountry.healthcare_rank)"
   ]
  },
  {
   "cell_type": "code",
   "execution_count": 20,
   "metadata": {},
   "outputs": [
    {
     "name": "stdout",
     "output_type": "stream",
     "text": [
      "90    28.05\n",
      "Name: totalSmokingRate, dtype: float64\n"
     ]
    }
   ],
   "source": [
    "print(analyzedCountry.smoking_rate)"
   ]
  },
  {
   "cell_type": "code",
   "execution_count": null,
   "metadata": {},
   "outputs": [],
   "source": []
  }
 ],
 "metadata": {
  "kernelspec": {
   "display_name": "Python 3",
   "language": "python",
   "name": "python3"
  },
  "language_info": {
   "codemirror_mode": {
    "name": "ipython",
    "version": 3
   },
   "file_extension": ".py",
   "mimetype": "text/x-python",
   "name": "python",
   "nbconvert_exporter": "python",
   "pygments_lexer": "ipython3",
   "version": "3.7.6"
  }
 },
 "nbformat": 4,
 "nbformat_minor": 2
}
